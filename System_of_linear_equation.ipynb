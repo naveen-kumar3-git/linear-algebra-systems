{
 "cells": [
  {
   "cell_type": "code",
   "execution_count": 37,
   "id": "434792c0",
   "metadata": {},
   "outputs": [
    {
     "name": "stdout",
     "output_type": "stream",
     "text": [
      "No unique solution  :  Singular matrix\n"
     ]
    }
   ],
   "source": [
    "import numpy as np\n",
    "A=np.array([[1,1],[2,2]])\n",
    "B=np.array([10,24])\n",
    "\n",
    "try:\n",
    "    solution= np.linalg.solve(A,B)\n",
    "    print(f\"x={solution[0]}, y={solution[1]}\")\n",
    "except np.linalg.LinAlgError as e:\n",
    "    print(\"No unique solution  : \",e)\n",
    "    \n",
    "\n"
   ]
  },
  {
   "cell_type": "code",
   "execution_count": 34,
   "id": "7f47074a",
   "metadata": {},
   "outputs": [
    {
     "name": "stdout",
     "output_type": "stream",
     "text": [
      "Price\n",
      "Apple=$3.0,Banana=$5.0,Cheery=$2.0\n"
     ]
    }
   ],
   "source": [
    "C=([\n",
    "    [1,1,1],\n",
    "    [1,2,1],\n",
    "    [1,1,2]\n",
    "])\n",
    "\n",
    "D=([10,15,12])\n",
    "\n",
    "price=np.linalg.solve(C,D)\n",
    "print(\"Price\")\n",
    "print(f\"Apple=${price[0]},Banana=${price[1]},Cheery=${price[2]}\")"
   ]
  },
  {
   "cell_type": "code",
   "execution_count": null,
   "id": "a32cfffe",
   "metadata": {},
   "outputs": [],
   "source": []
  }
 ],
 "metadata": {
  "kernelspec": {
   "display_name": "Python 3 (ipykernel)",
   "language": "python",
   "name": "python3"
  },
  "language_info": {
   "codemirror_mode": {
    "name": "ipython",
    "version": 3
   },
   "file_extension": ".py",
   "mimetype": "text/x-python",
   "name": "python",
   "nbconvert_exporter": "python",
   "pygments_lexer": "ipython3",
   "version": "3.11.5"
  }
 },
 "nbformat": 4,
 "nbformat_minor": 5
}
